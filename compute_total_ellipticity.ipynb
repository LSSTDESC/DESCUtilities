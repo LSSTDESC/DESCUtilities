{
 "cells": [
  {
   "cell_type": "markdown",
   "metadata": {},
   "source": [
    "# Compute total ellipticity by adding moments"
   ]
  },
  {
   "cell_type": "code",
   "execution_count": 1,
   "metadata": {
    "collapsed": false
   },
   "outputs": [
    {
     "name": "stdout",
     "output_type": "stream",
     "text": [
      "Populating the interactive namespace from numpy and matplotlib\n"
     ]
    }
   ],
   "source": [
    "%pylab inline\n",
    "import sys \n",
    "sys.path.insert(0, '/global/common/cori/contrib/lsst/apps/anaconda/py2-envs/DESCQA/lib/python2.7/site-packages/')\n",
    "import GCRCatalogs\n",
    "gc_protoDC2 = GCRCatalogs.load_catalog('proto-dc2_v2.1.1')"
   ]
  },
  {
   "cell_type": "code",
   "execution_count": 31,
   "metadata": {
    "collapsed": true
   },
   "outputs": [],
   "source": [
    "# Ellipticity functions from the WeakLensingDeblending code \n",
    "# https://github.com/LSSTDESC/WeakLensingDeblending/blob/master/descwl/model.py\n",
    "# Credit David Kirkby\n",
    "import math\n",
    "import inspect\n",
    "\n",
    "import numpy as np\n",
    "import numpy.linalg\n",
    "\n",
    "def sersic_second_moments(n,hlr,q,beta):\n",
    "    \"\"\"Calculate the second-moment tensor of a sheared Sersic radial profile.\n",
    "    Args:\n",
    "        n(int): Sersic index of radial profile. Only n = 1 and n = 4 are supported.\n",
    "        hlr(float): Radius of 50% isophote before shearing, in arcseconds.\n",
    "        q(float): Ratio b/a of Sersic isophotes after shearing.\n",
    "        beta(float): Position angle of sheared isophotes in radians, measured anti-clockwise\n",
    "            from the positive x-axis.\n",
    "    Returns:\n",
    "        numpy.ndarray: Array of shape (2,2) with values of the second-moments tensor\n",
    "            matrix, in units of square arcseconds.\n",
    "    Raises:\n",
    "        RuntimeError: Invalid Sersic index n.\n",
    "    \"\"\"\n",
    "    # Lookup the value of cn = 0.5*(r0/hlr)**2 Gamma(4*n)/Gamma(2*n)\n",
    "    if n == 1:\n",
    "        cn = 1.06502\n",
    "    elif n == 4:\n",
    "        cn = 10.8396\n",
    "    else:\n",
    "        raise RuntimeError('Invalid Sersic index n.')\n",
    "    e_mag = (1.-q)/(1.+q)\n",
    "    e_mag_sq = e_mag**2\n",
    "    e1 = e_mag*np.cos(2*beta)\n",
    "    e2 = e_mag*np.sin(2*beta)\n",
    "    Q11 = 1 + e_mag_sq + 2*e1\n",
    "    Q22 = 1 + e_mag_sq - 2*e1\n",
    "    Q12 = 2*e2\n",
    "    return np.array(((Q11,Q12),(Q12,Q22)))*cn*hlr**2/(1-e_mag_sq)**2\n",
    "\n",
    "def moments_size_and_shape(Q):\n",
    "    \"\"\"Calculate size and shape parameters from a second-moment tensor.\n",
    "    If the input is an array of second-moment tensors, the calculation is vectorized\n",
    "    and returns a tuple of output arrays with the same leading dimensions (...).\n",
    "    Args:\n",
    "        Q(numpy.ndarray): Array of shape (...,2,2) containing second-moment tensors,\n",
    "            which are assumed to be symmetric (only the [0,1] component is used).\n",
    "    Returns:\n",
    "        tuple: Tuple (sigma_m,sigma_p,a,b,beta,e1,e2) of :class:`numpy.ndarray` objects\n",
    "            with shape (...). Refer to :ref:`analysis-results` for details on how\n",
    "            each of these vectors is defined.\n",
    "    \"\"\"\n",
    "    trQ = np.trace(Q,axis1=-2,axis2=-1)\n",
    "    detQ = np.linalg.det(Q)\n",
    "    sigma_m = np.power(detQ,0.25)\n",
    "    sigma_p = np.sqrt(0.5*trQ)\n",
    "    asymQx = Q[...,0,0] - Q[...,1,1]\n",
    "    asymQy = 2*Q[...,0,1]\n",
    "    asymQ = np.sqrt(asymQx**2 + asymQy**2)\n",
    "    a = np.sqrt(0.5*(trQ + asymQ))\n",
    "    b = np.sqrt(0.5*(trQ - asymQ))\n",
    "    beta = 0.5*np.arctan2(asymQy,asymQx)\n",
    "    e_denom = trQ + 2*np.sqrt(detQ)\n",
    "    e1 = asymQx/e_denom\n",
    "    e2 = asymQy/e_denom\n",
    "    return sigma_m,sigma_p,a,b,beta,e1,e2"
   ]
  },
  {
   "cell_type": "code",
   "execution_count": 15,
   "metadata": {
    "collapsed": false
   },
   "outputs": [],
   "source": [
    "# Extract information about ellipticity\n",
    "gc_protoDC2 = GCRCatalogs.load_catalog('proto-dc2_v2.1.1')\n",
    "cat = gc_protoDC2.get_quantities(['morphology/diskHalfLightRadius',\n",
    "                                  'morphology/diskMinorAxisArcsec',\n",
    "                                  'morphology/diskScaleRadius',\n",
    "                                  'morphology/diskAxisRatio',\n",
    "                                  'morphology/diskHalfLightRadiusArcsec',\n",
    "                                  'morphology/diskSersicIndex',\n",
    "                                  'morphology/diskRadiusArcsec',\n",
    "                                  'morphology/diskEllipticity',\n",
    "                                  'morphology/spheroidHalfLightRadius',\n",
    "                                  'morphology/spheroidMinorAxisArcsec',\n",
    "                                  'morphology/spheroidScaleRadius',\n",
    "                                  'morphology/spheroidAxisRatio',\n",
    "                                  'morphology/spheroidHalfLightRadiusArcsec',\n",
    "                                  'morphology/spheroidSersicIndex',\n",
    "                                  'morphology/spheroidRadiusArcsec',\n",
    "                                  'morphology/spheroidEllipticity',\n",
    "                                  'morphology/positionAngle',\n",
    "                                  'LSST_filters/spheroidLuminositiesStellar:LSST_r:rest',\n",
    "                                  'LSST_filters/diskLuminositiesStellar:LSST_r:rest',\n",
    "                                  'LSST_filters/totalLuminositiesStellar:LSST_r:rest',\n",
    "                                  'ellipticity_1',\n",
    "                                  'ellipticity_2'])"
   ]
  },
  {
   "cell_type": "code",
   "execution_count": 12,
   "metadata": {
    "collapsed": false
   },
   "outputs": [],
   "source": [
    "# Get disk and bulge fraction\n",
    "disk_fraction = cat['LSST_filters/diskLuminositiesStellar:LSST_r:rest'] / cat['LSST_filters/totalLuminositiesStellar:LSST_r:rest']\n",
    "bulge_fraction = cat['LSST_filters/spheroidLuminositiesStellar:LSST_r:rest'] / cat['LSST_filters/totalLuminositiesStellar:LSST_r:rest']"
   ]
  },
  {
   "cell_type": "code",
   "execution_count": 28,
   "metadata": {
    "collapsed": true
   },
   "outputs": [],
   "source": [
    "# Correct bug in position angle\n",
    "PositionAngle_correct = cat['morphology/positionAngle']*(180/pi)**2 *pi/180."
   ]
  },
  {
   "cell_type": "code",
   "execution_count": 37,
   "metadata": {
    "collapsed": false
   },
   "outputs": [],
   "source": [
    "# Compute second moments for each component\n",
    "disk_second_moments = sersic_second_moments(n=1,\n",
    "                                            hlr=cat['morphology/diskHalfLightRadiusArcsec'],\n",
    "                                            q=cat['morphology/diskAxisRatio'],\n",
    "                                            beta=PositionAngle_correct)\n",
    "\n",
    "spheroid_second_moments = sersic_second_moments(n=4,\n",
    "                                            hlr=cat['morphology/spheroidHalfLightRadiusArcsec'],\n",
    "                                            q=cat['morphology/spheroidAxisRatio'],\n",
    "                                            beta=PositionAngle_correct)"
   ]
  },
  {
   "cell_type": "code",
   "execution_count": 38,
   "metadata": {
    "collapsed": true
   },
   "outputs": [],
   "source": [
    "# Luminosity weighting of the moments for the 2 components\n",
    "moments = disk_fraction * disk_second_moments + bulge_fraction * spheroid_second_moments"
   ]
  },
  {
   "cell_type": "code",
   "execution_count": 43,
   "metadata": {
    "collapsed": false
   },
   "outputs": [],
   "source": [
    "# Compute second moment statistics, including e1 e2\n",
    "# Note that we need to roll the axis of the computed moments \n",
    "sigma_m,sigma_p,a,b,beta,e1,e2 = moments_size_and_shape(rollaxis(moments,2))"
   ]
  },
  {
   "cell_type": "code",
   "execution_count": 64,
   "metadata": {
    "collapsed": false
   },
   "outputs": [
    {
     "data": {
      "image/png": "[encoded data removed]",
      "text/plain": [
       "<matplotlib.figure.Figure at 0x7f86dae51510>"
      ]
     },
     "metadata": {},
     "output_type": "display_data"
    }
   ],
   "source": [
    "hist(e2,100);"
   ]
  },
  {
   "cell_type": "code",
   "execution_count": null,
   "metadata": {
    "collapsed": true
   },
   "outputs": [],
   "source": []
  }
 ],
 "metadata": {
  "kernelspec": {
   "display_name": "Python 2",
   "language": "python",
   "name": "python2"
  },
  "language_info": {
   "codemirror_mode": {
    "name": "ipython",
    "version": 2
   },
   "file_extension": ".py",
   "mimetype": "text/x-python",
   "name": "python",
   "nbconvert_exporter": "python",
   "pygments_lexer": "ipython2",
   "version": "2.7.13"
  }
 },
 "nbformat": 4,
 "nbformat_minor": 2
}
